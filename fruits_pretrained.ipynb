{
  "nbformat": 4,
  "nbformat_minor": 0,
  "metadata": {
    "colab": {
      "name": "fruits_load.ipynb",
      "provenance": [],
      "collapsed_sections": []
    },
    "kernelspec": {
      "name": "python3",
      "display_name": "Python 3"
    }
  },
  "cells": [
    {
      "cell_type": "markdown",
      "metadata": {
        "id": "TMchOsltl56G",
        "colab_type": "text"
      },
      "source": [
        "***RECOMMEND READING 'fruits_main.ipny' or this won't make sense.***"
      ]
    },
    {
      "cell_type": "code",
      "metadata": {
        "id": "HkHKlWiy4lUl",
        "colab_type": "code",
        "colab": {}
      },
      "source": [
        "!pip uninstall -y torchvision\n",
        "\n",
        "!pip uninstall -y torch\n",
        "\n",
        "!pip install torchvision==0.2.0\n",
        "\n",
        "!pip install torch==1.0.0\n",
        "\n",
        "import torch\n",
        "print(torch.__version__)\n",
        "\n",
        "import torchvision\n",
        "print(torchvision.__version__)\n",
        "\n",
        "from fastai.vision import *\n"
      ],
      "execution_count": 0,
      "outputs": []
    },
    {
      "cell_type": "markdown",
      "metadata": {
        "id": "i2C5VcYymvyk",
        "colab_type": "text"
      },
      "source": [
        "YOU NEED THE trained_model.pkl pre-trained model file.\n",
        "\n",
        "Download: https://drive.google.com/open?id=1JDVJe2Vi-fA-tbkn1zn92goWp8WqzwBt\n",
        "\n",
        "Create a folder 'FRUITS' and upload it there."
      ]
    },
    {
      "cell_type": "code",
      "metadata": {
        "id": "_xDzNzzFA9CM",
        "colab_type": "code",
        "colab": {}
      },
      "source": [
        "# from google.colab import drive\n",
        "# drive.mount('/content/gdrive')\n",
        "\n",
        "# !cp -r '/content/gdrive/My Drive/FRUITS' '/content/'"
      ],
      "execution_count": 0,
      "outputs": []
    },
    {
      "cell_type": "code",
      "metadata": {
        "id": "viAThdWd7Doq",
        "colab_type": "code",
        "colab": {}
      },
      "source": [
        "path = Path('FRUITS/')\n",
        "path.mkdir(parents=True, exist_ok=True)"
      ],
      "execution_count": 0,
      "outputs": []
    },
    {
      "cell_type": "code",
      "metadata": {
        "id": "jUXrQvKa7JRV",
        "colab_type": "code",
        "colab": {}
      },
      "source": [
        "learn = load_learner(path, 'trained_model.pkl')"
      ],
      "execution_count": 0,
      "outputs": []
    },
    {
      "cell_type": "code",
      "metadata": {
        "id": "X6jpTZOE_yo2",
        "colab_type": "code",
        "colab": {}
      },
      "source": [
        "defaults.device = torch.device('cpu')"
      ],
      "execution_count": 0,
      "outputs": []
    },
    {
      "cell_type": "code",
      "metadata": {
        "id": "gTjNT0eu_2w4",
        "colab_type": "code",
        "colab": {}
      },
      "source": [
        "# Edit this path to try out other images\n",
        "image_for_testing = Path(str(path) + '/test_strawberries.jpg')\n",
        "image_for_testing"
      ],
      "execution_count": 0,
      "outputs": []
    },
    {
      "cell_type": "code",
      "metadata": {
        "id": "7P9A8FdKAAUD",
        "colab_type": "code",
        "colab": {}
      },
      "source": [
        "print(path)\n",
        "img = open_image(image_for_testing)\n",
        "img"
      ],
      "execution_count": 0,
      "outputs": []
    },
    {
      "cell_type": "code",
      "metadata": {
        "id": "pLpkHf2CAOML",
        "colab_type": "code",
        "colab": {}
      },
      "source": [
        "pred_class,pred_idx,outputs = learn.predict(img)\n",
        "pred_class"
      ],
      "execution_count": 0,
      "outputs": []
    }
  ]
}